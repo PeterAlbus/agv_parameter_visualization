{
 "cells": [
  {
   "cell_type": "code",
   "execution_count": 3,
   "metadata": {},
   "outputs": [],
   "source": [
    "import matplotlib.pyplot as plt\n",
    "import numpy as np\n",
    "import pandas as pd"
   ]
  },
  {
   "cell_type": "code",
   "execution_count": null,
   "metadata": {},
   "outputs": [],
   "source": [
    "df_lanes = pd.read_csv(\n",
    "    \"../agv_ns_ros/data/AGV_Map/LaneMap-20241019.csv\",\n",
    "    names=\"index x_begin y_begin x_end y_end\".split(),\n",
    "    index_col=0,\n",
    ")\n",
    "df_lanes.info()"
   ]
  },
  {
   "cell_type": "code",
   "execution_count": null,
   "metadata": {},
   "outputs": [],
   "source": [
    "df_transponders = pd.read_csv(\n",
    "    \"../agv_ns_ros/data/AGV_Map/TransMap-20241018.csv\",\n",
    "    names=\"index x y lane_1 lane_2\".split(),\n",
    "    index_col=0,\n",
    ")\n",
    "df_transponders[\"x\"] = df_transponders[\"x\"] / 1000\n",
    "df_transponders[\"y\"] = df_transponders[\"y\"] / 1000\n",
    "df_transponders.info()"
   ]
  },
  {
   "cell_type": "code",
   "execution_count": null,
   "metadata": {},
   "outputs": [],
   "source": [
    "df_unbound_transponders = df_transponders[\n",
    "    (df_transponders[\"lane_1\"] == 0)\n",
    "    & (df_transponders[\"lane_2\"] == 0)\n",
    "]\n",
    "df_unbound_transponders"
   ]
  },
  {
   "cell_type": "code",
   "execution_count": null,
   "metadata": {},
   "outputs": [],
   "source": [
    "df_lanes.loc[2]"
   ]
  },
  {
   "cell_type": "code",
   "execution_count": null,
   "metadata": {},
   "outputs": [],
   "source": [
    "fig = plt.figure(figsize=(8, 6), dpi=150)\n",
    "fig.set_facecolor(\"#fff\")\n",
    "ax = fig.add_subplot()\n",
    "\n",
    "for index in df_lanes.index:\n",
    "    ax.plot(\n",
    "        [df_lanes.loc[index, \"x_begin\"], df_lanes.loc[index, \"x_end\"]],  # type: ignore\n",
    "        [df_lanes.loc[index, \"y_begin\"], df_lanes.loc[index, \"y_end\"]],  # type: ignore\n",
    "        \"b.-\",\n",
    "        lw=1,\n",
    "        ms=2,\n",
    "    )\n",
    "\n",
    "ax.plot(\n",
    "    df_transponders[\"x\"],\n",
    "    df_transponders[\"y\"],\n",
    "    \"r.\",\n",
    "    ms=2,\n",
    ")\n",
    "\n",
    "# target lane\n",
    "ax.plot(\n",
    "    [df_lanes.loc[6][\"x_begin\"], df_lanes.loc[6][\"x_end\"]],\n",
    "    [df_lanes.loc[6][\"y_begin\"], df_lanes.loc[6][\"y_end\"]],\n",
    "    \"-\",\n",
    "    color=\"green\",\n",
    "    lw=6,\n",
    "    alpha=0.5,\n",
    "    label=\"target lane\",\n",
    ")\n",
    "\n",
    "# target route\n",
    "ax.plot(\n",
    "    [601.850, 601.850],\n",
    "    [122.510, 62.510],\n",
    "    \"-\",\n",
    "    color=\"purple\",\n",
    "    lw=4,\n",
    "    alpha=0.8,\n",
    "    label=\"target route\",\n",
    ")\n",
    "\n",
    "ax.set(\n",
    "    xlabel=\"x (m)\",\n",
    "    ylabel=\"y (m)\",\n",
    "    # xlim=(575, 625),\n",
    "    # ylim=(85, 100),\n",
    "    xlim=(520, 830),\n",
    "    xticks=np.arange(525, 826, 25),\n",
    "    aspect=\"equal\",\n",
    ")\n",
    "\n",
    "for i, index in enumerate(df_unbound_transponders.index):\n",
    "    ax.plot(\n",
    "        df_unbound_transponders.loc[index, \"x\"],  # type: ignore\n",
    "        df_unbound_transponders.loc[index, \"y\"],  # type: ignore\n",
    "        \"x\",\n",
    "        color=\"cyan\",\n",
    "        ms=5,\n",
    "        label=(\"unbound transponder(s)\" if i == 0 else None),\n",
    "    )\n",
    "\n",
    "ax.legend()\n",
    "ax.grid()"
   ]
  }
 ],
 "metadata": {
  "kernelspec": {
   "display_name": "Python 3",
   "language": "python",
   "name": "python3"
  },
  "language_info": {
   "codemirror_mode": {
    "name": "ipython",
    "version": 3
   },
   "file_extension": ".py",
   "mimetype": "text/x-python",
   "name": "python",
   "nbconvert_exporter": "python",
   "pygments_lexer": "ipython3",
   "version": "3.12.1"
  }
 },
 "nbformat": 4,
 "nbformat_minor": 2
}
