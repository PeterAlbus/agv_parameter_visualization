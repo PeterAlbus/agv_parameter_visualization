{
 "cells": [
  {
   "cell_type": "markdown",
   "metadata": {},
   "source": [
    "# Fusion Localization Visualization"
   ]
  },
  {
   "cell_type": "markdown",
   "metadata": {},
   "source": [
    "融合定位中间变量可视化"
   ]
  },
  {
   "cell_type": "code",
   "execution_count": null,
   "metadata": {},
   "outputs": [],
   "source": [
    "import os\n",
    "import re\n",
    "from collections import defaultdict\n",
    "\n",
    "import matplotlib.pyplot as plt\n",
    "import numpy as np\n",
    "import pandas as pd"
   ]
  },
  {
   "cell_type": "markdown",
   "metadata": {},
   "source": [
    "## Data Loading"
   ]
  },
  {
   "cell_type": "code",
   "execution_count": null,
   "metadata": {},
   "outputs": [],
   "source": [
    "log_file_path = \"./tracking_control_node-2-stdout.log\"\n",
    "\n",
    "TUPLE_PATTERN = re.compile(\n",
    "    r\"(?P<key>state|z) = \\((?P<value>[^)]+)\\)\"\n",
    ")\n",
    "FLOAT_PATTERNS = (\n",
    "    re.compile(r\"(?P<key>gnss_X)=(?P<value>-?\\d*(?:\\.\\d*)?)\"),\n",
    "    re.compile(r\"(?P<key>gnss_Y)=(?P<value>-?\\d*(?:\\.\\d*)?)\"),\n",
    "    re.compile(r\"(?P<key>enu_x)=(?P<value>-?\\d*(?:\\.\\d*)?)\"),\n",
    "    re.compile(r\"(?P<key>enu_y)=(?P<value>-?\\d*(?:\\.\\d*)?)\"),\n",
    "    re.compile(r\"(?P<key>enu_z)=(?P<value>-?\\d*(?:\\.\\d*)?)\"),\n",
    ")\n",
    "\n",
    "data_dict = defaultdict(list)\n",
    "with open(log_file_path, \"r\", encoding=\"utf-8\") as log_file:\n",
    "    for line in log_file:\n",
    "        if match_result := TUPLE_PATTERN.search(line):\n",
    "            key = match_result.group(\"key\")\n",
    "            value = tuple(\n",
    "                float(s.strip())\n",
    "                for s in match_result.group(\"value\").split(',')\n",
    "            )\n",
    "            data_dict[key].append(value)\n",
    "        for pattern in FLOAT_PATTERNS:\n",
    "            if match_result := pattern.search(line):\n",
    "                key = match_result.group(\"key\")\n",
    "                value = float(match_result.group(\"value\"))\n",
    "                data_dict[key].append(value)\n",
    "\n",
    "{ key: len(value) for key, value in data_dict.items() }"
   ]
  },
  {
   "cell_type": "code",
   "execution_count": null,
   "metadata": {},
   "outputs": [],
   "source": [
    "data_list = [\n",
    "    {key: data_dict[key][i] for key in data_dict.keys()}\n",
    "    for i in range(len(data_dict[\"state\"]))\n",
    "]\n",
    "heading = np.array([item[\"state\"][2] for item in data_list])\n",
    "\n",
    "transponder_correction_filter = np.array([\n",
    "    (item[\"z\"][0] != item[\"state\"][0]) or (item[\"z\"][1] != item[\"state\"][1])\n",
    "    for item in data_list\n",
    "])\n",
    "print(\n",
    "    \"%d out of %d records are corrected by transponders.\" % (\n",
    "        transponder_correction_filter.sum(),\n",
    "        len(transponder_correction_filter)\n",
    "    )\n",
    ")"
   ]
  },
  {
   "cell_type": "code",
   "execution_count": null,
   "metadata": {},
   "outputs": [],
   "source": [
    "TRANS_MAP_DIR_SUFFIX = \"agv_ns_ros/data/AGV_Map/\"\n",
    "TRANS_MAP_DIR = \"\"  # leave this empty to enable auto search\n",
    "\n",
    "CWD = os.getcwd()\n",
    "\n",
    "if not TRANS_MAP_DIR:\n",
    "    current_dir = os.path.dirname(CWD)\n",
    "    while (parent_dir := os.path.dirname(current_dir)) != current_dir:\n",
    "        current_dir = parent_dir\n",
    "        map_dir_path = os.path.join(current_dir, TRANS_MAP_DIR_SUFFIX)\n",
    "        if os.path.exists(map_dir_path):\n",
    "            TRANS_MAP_DIR = map_dir_path\n",
    "            break\n",
    "    else:\n",
    "        raise FileNotFoundError(\"Failed to find the transponder map file!\")\n",
    "\n",
    "trans_map_candidates = [\n",
    "    file_name\n",
    "    for file_name in os.listdir(TRANS_MAP_DIR)\n",
    "    if file_name.startswith(\"TransMap\") and file_name.endswith(\".csv\")\n",
    "]\n",
    "if len(trans_map_candidates) < 1:\n",
    "    raise FileNotFoundError(\"Transponder map file not found!\")\n",
    "else:\n",
    "    selected_trans_map_file_name = sorted(trans_map_candidates)[-1]\n",
    "\n",
    "TRANS_MAP_PATH = os.path.join(TRANS_MAP_DIR, selected_trans_map_file_name)\n",
    "print(f'Selected \"{os.path.relpath(TRANS_MAP_PATH, CWD)}\".')\n",
    "df_trans_map = pd.read_csv(\n",
    "    TRANS_MAP_PATH,\n",
    "    names=[\"TransID\", \"AbsX\", \"AbsY\", \"LaneNB1\", \"LaneNB2\"],\n",
    "    index_col=0,\n",
    ")\n",
    "df_trans_map[\"x\"] = df_trans_map[\"AbsX\"] / 1000\n",
    "df_trans_map[\"y\"] = df_trans_map[\"AbsY\"] / 1000\n",
    "\n",
    "\n",
    "def plot_transponders(ax):\n",
    "    handle = None\n",
    "    for id in df_trans_map.index:\n",
    "        handle = ax.plot(\n",
    "            df_trans_map.loc[id, \"x\"],\n",
    "            df_trans_map.loc[id, \"y\"],\n",
    "            \"+\",\n",
    "            ms=5,\n",
    "            color=\"purple\",\n",
    "            alpha=0.5,\n",
    "            label=(\"Transponders\" if handle is None else None),\n",
    "        )[0]\n",
    "    return handle"
   ]
  },
  {
   "cell_type": "markdown",
   "metadata": {},
   "source": [
    "## ENU"
   ]
  },
  {
   "cell_type": "code",
   "execution_count": null,
   "metadata": {},
   "outputs": [],
   "source": [
    "x_enu = np.array(data_dict[\"enu_x\"])\n",
    "y_enu = np.array(data_dict[\"enu_y\"])\n",
    "z_enu = np.array(data_dict[\"enu_z\"])\n",
    "\n",
    "fig = plt.figure(figsize=(6, 6), dpi=150)\n",
    "fig.set_facecolor(\"#fff\")\n",
    "ax = fig.add_subplot()\n",
    "\n",
    "ax.plot(x_enu, y_enu, \"b.-\", ms=2, alpha=0.5, label=\"ENU\")\n",
    "ax.plot(x_enu[0], y_enu[0], \"ro\", ms=8, alpha=0.5, label=\"ENU Start\")\n",
    "\n",
    "ax.set(\n",
    "    xlabel=\"x\",\n",
    "    xlim=(x_enu.min() - 5, x_enu.max() + 5),\n",
    "    ylabel=\"y\",\n",
    "    ylim=(y_enu.min() - 5, y_enu.max() + 5),\n",
    "    aspect=\"equal\",\n",
    ")\n",
    "ax.legend()\n",
    "ax.grid(alpha=0.3)"
   ]
  },
  {
   "cell_type": "markdown",
   "metadata": {},
   "source": [
    "## Center Position By GNSS"
   ]
  },
  {
   "cell_type": "code",
   "execution_count": null,
   "metadata": {},
   "outputs": [],
   "source": [
    "x_gnss = np.array(data_dict[\"gnss_X\"])\n",
    "y_gnss = np.array(data_dict[\"gnss_Y\"])\n",
    "\n",
    "fig = plt.figure(figsize=(6, 6), dpi=150)\n",
    "fig.set_facecolor(\"#fff\")\n",
    "ax = fig.add_subplot()\n",
    "\n",
    "ax.plot(x_gnss, y_gnss, \"b.-\", ms=2, alpha=0.5, label=\"GNSS\")\n",
    "ax.plot(x_gnss[0], y_gnss[0], \"ro\", ms=8, alpha=0.5, label=\"GNSS Start\")\n",
    "\n",
    "plot_transponders(ax)\n",
    "\n",
    "ax.set(\n",
    "    xlabel=\"x\",\n",
    "    xlim=(x_gnss.min() - 5, x_gnss.max() + 5),\n",
    "    ylabel=\"y\",\n",
    "    ylim=(y_gnss.min() - 5, y_gnss.max() + 5),\n",
    "    aspect=\"equal\",\n",
    ")\n",
    "ax.legend()\n",
    "ax.grid(alpha=0.3)"
   ]
  },
  {
   "cell_type": "markdown",
   "metadata": {},
   "source": [
    "## Recomputed Center Position By GNSS"
   ]
  },
  {
   "cell_type": "code",
   "execution_count": null,
   "metadata": {},
   "outputs": [],
   "source": [
    "INS_OFFSET_X = 0.313919334029\n",
    "INS_OFFSET_Y = 2.814034003987\n",
    "\n",
    "cos_heading = np.cos(heading)\n",
    "sin_heading = np.sin(heading)\n",
    "x_recomputed = 687.536114629993 \\\n",
    "    + INS_OFFSET_X * -cos_heading \\\n",
    "    + INS_OFFSET_Y * sin_heading \\\n",
    "    + 0.789918276523 * x_enu \\\n",
    "    + 0.609474825749 * y_enu \\\n",
    "    + -0.236295772317 * z_enu \\\n",
    "    + -0.000020183664 * (x_enu * y_enu) \\\n",
    "    + -0.005486946410 * (y_enu * z_enu) \\\n",
    "    + 0.003718934791 * (z_enu * x_enu)\n",
    "y_recomputed = 108.596183544605 \\\n",
    "    + INS_OFFSET_X * -sin_heading \\\n",
    "    + INS_OFFSET_Y * -cos_heading \\\n",
    "    + -0.618264990381 * x_enu \\\n",
    "    + 0.788027481693 * y_enu \\\n",
    "    + 0.234559052464 * z_enu \\\n",
    "    + 0.000109658679 * (x_enu * y_enu) \\\n",
    "    + 0.003845675972 * (y_enu * z_enu) \\\n",
    "    + -0.000196675328 * (z_enu * x_enu)\n",
    "\n",
    "fig = plt.figure(figsize=(6, 6), dpi=150)\n",
    "fig.set_facecolor(\"#fff\")\n",
    "ax = fig.add_subplot()\n",
    "\n",
    "ax.plot(x_recomputed, y_recomputed, \"b.-\",\n",
    "        ms=2, alpha=0.5, label=\"Recomputed\")\n",
    "ax.plot(x_recomputed[0], y_recomputed[0], \"ro\",\n",
    "        ms=8, alpha=0.5, label=\"Recomputed Start\")\n",
    "\n",
    "plot_transponders(ax)\n",
    "\n",
    "ax.set(\n",
    "    xlabel=\"x\",\n",
    "    xlim=(x_recomputed.min() - 5, x_recomputed.max() + 5),\n",
    "    ylabel=\"y\",\n",
    "    ylim=(y_recomputed.min() - 5, y_recomputed.max() + 5),\n",
    "    aspect=\"equal\",\n",
    ")\n",
    "ax.legend()\n",
    "ax.grid(alpha=0.3)"
   ]
  }
 ],
 "metadata": {
  "kernelspec": {
   "display_name": ".venv",
   "language": "python",
   "name": "python3"
  },
  "language_info": {
   "codemirror_mode": {
    "name": "ipython",
    "version": 3
   },
   "file_extension": ".py",
   "mimetype": "text/x-python",
   "name": "python",
   "nbconvert_exporter": "python",
   "pygments_lexer": "ipython3",
   "version": "3.12.7"
  }
 },
 "nbformat": 4,
 "nbformat_minor": 2
}
